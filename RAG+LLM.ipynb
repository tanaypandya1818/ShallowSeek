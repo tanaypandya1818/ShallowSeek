{
 "cells": [
  {
   "cell_type": "code",
   "execution_count": 1,
   "id": "d8a53ed4-b8d2-4472-970e-76f1c10f25c1",
   "metadata": {},
   "outputs": [
    {
     "name": "stderr",
     "output_type": "stream",
     "text": [
      "C:\\Users\\tanay\\AppData\\Roaming\\Python\\Python310\\site-packages\\tqdm\\auto.py:21: TqdmWarning: IProgress not found. Please update jupyter and ipywidgets. See https://ipywidgets.readthedocs.io/en/stable/user_install.html\n",
      "  from .autonotebook import tqdm as notebook_tqdm\n"
     ]
    },
    {
     "name": "stdout",
     "output_type": "stream",
     "text": [
      "WARNING:tensorflow:From C:\\Users\\tanay\\AppData\\Roaming\\Python\\Python310\\site-packages\\tf_keras\\src\\losses.py:2976: The name tf.losses.sparse_softmax_cross_entropy is deprecated. Please use tf.compat.v1.losses.sparse_softmax_cross_entropy instead.\n",
      "\n"
     ]
    }
   ],
   "source": [
    "import json\n",
    "import numpy as np\n",
    "import faiss\n",
    "from tqdm import tqdm\n",
    "from sentence_transformers import SentenceTransformer"
   ]
  },
  {
   "cell_type": "code",
   "execution_count": 5,
   "id": "bed923ae-1f30-477c-8850-db5fbfed0edf",
   "metadata": {},
   "outputs": [
    {
     "name": "stderr",
     "output_type": "stream",
     "text": [
      "100%|██████████| 2601/2601 [04:36<00:00,  9.40it/s]\n"
     ]
    }
   ],
   "source": [
    "# --- Step 1: Load Data ---\n",
    "with open('./data-collection/data/chapter-data.json', 'r', encoding='utf-8') as f:\n",
    "    data = json.load(f)\n",
    "\n",
    "# --- Step 2: Load Embedding Model ---\n",
    "model = SentenceTransformer('all-MiniLM-L6-v2')\n",
    "\n",
    "# --- Step 3: Embed Data ---\n",
    "embeddedData = []\n",
    "\n",
    "def naive_sentence_split(paragraph):\n",
    "    # Simple sentence splitter (replace with nltk.sent_tokenize for better accuracy)\n",
    "    return [sent.strip() for sent in paragraph.split('.') if sent.strip()]\n",
    "\n",
    "for entry in tqdm(data):\n",
    "    book_title = entry.get(\"book_title\", \"\")\n",
    "    chapter_name = entry.get(\"chapter_name\", \"\")\n",
    "    paragraphs = entry.get(\"paragraphs\", [])\n",
    "\n",
    "    for paragraph in paragraphs:\n",
    "        sentences = naive_sentence_split(paragraph)\n",
    "        sentence_embeddings = model.encode(sentences)\n",
    "        paragraph_embedding = np.mean(sentence_embeddings, axis=0)\n",
    "\n",
    "        embeddedData.append({\n",
    "            \"book_title\": book_title,\n",
    "            \"chapter_name\": chapter_name,\n",
    "            \"paragraph\": paragraph,\n",
    "            \"embeddedParagraph\": paragraph_embedding\n",
    "        })"
   ]
  },
  {
   "cell_type": "code",
   "execution_count": 6,
   "id": "226ffe77-19e4-4b2e-b254-34270ebade9e",
   "metadata": {},
   "outputs": [],
   "source": [
    "# --- Step 4: Build FAISS Index ---\n",
    "embeddings = np.array([info['embeddedParagraph'] for info in embeddedData])\n",
    "index = faiss.IndexFlatL2(embeddings.shape[1])\n",
    "index.add(embeddings)"
   ]
  },
  {
   "cell_type": "code",
   "execution_count": 7,
   "id": "9be3ad1f-8575-46d1-9863-cafc855956bc",
   "metadata": {},
   "outputs": [
    {
     "name": "stdout",
     "output_type": "stream",
     "text": [
      "📘 Book: BOOK XI. THE VARIOUS KINDS OF INSECTS.\n",
      "📖 Chapter: CHAP. 34.—THE BEETLE. THE GLOW-WORM. OTHER KINDS OF BEETLES.\n",
      "📄 Paragraph: Some insects, for the preservation of their wings, are covered with a erust<@1> the beetle, for instance, the wing of which is peculiarly fine and frail. To these insects a sting has been denied by Nature; but in one large kind<@2> we find horns of a remarkable length, two-pronged at the extremities, and forming pincers, which the animal closes when it is its intention to bite. These beetles are suspended from the neck of infants by way of remedy against certain maladies: Nigidius calls them \"lucani.\" There is another kind<@3> of beetle, again, which, as it goes backwards with its feet, rolls the dung into large pellets, and then deposits in them the maggots which form its young, as in a sort of nest, to protect them against the rigours of winter. Some, again, fly with a loud buzzing or a drony noise, while others<@4> burrow numerous holes in the hearths and out in the fields, and their shrill chirrup is to be heard at night.\n",
      "--------------------------------------------------------------------------------\n",
      "📘 Book: BOOK XI. THE VARIOUS KINDS OF INSECTS.\n",
      "📖 Chapter: CHAP. 34.—THE BEETLE. THE GLOW-WORM. OTHER KINDS OF BEETLES.\n",
      "📄 Paragraph: The wings of all insects are formed without<@10> any division in them, and they none of them have a tail,<@11> with the exception of the scorpion; this, too, is the only one among them that has arms,<@12> together with a sting in the tail. As to the rest of the insects, some of them have the sting in the mouth, the gad-fly for instance, or the \"tabanus,\" as some persons choose to call it: the same is the case, too, with the gnat and some kinds of flies. All these insects have their stings situate in the mouth instead<@13> of a tongue; but in some the sting is not pointed, being formed not for pricking, but for the purpose of suction: this is the case more especially with flies, in which it is clear that the tongue<@14> is nothing more than a tube. These insects, too, have no teeth. Others, again, have little horns protruding in front of the eyes, but without any power in them; the butterfly, for instance. Some insects are destitute of wings, such as the scolopendra, for instance.<@15>\n",
      "--------------------------------------------------------------------------------\n",
      "📘 Book: BOOK XI. THE VARIOUS KINDS OF INSECTS.\n",
      "📖 Chapter: CHAP. 33. (28.)—THE WINGS OF INSECTS.\n",
      "📄 Paragraph: There are some insects which have two wings, flies, for instance; others, again, have four, like the bee. The wings of the grasshopper are membranous. Those insects which are armed with a sting in the abdomen, have four wings. None of those which have a sting in the mouth, have more than two wings. The former have received the sting for the purpose of defending themselves, the latter for the supplying of their wants. If pulled from off the body, the wings of an insect will not grow again; no insect which has a sting inserted in its body, has two wings only.\n",
      "--------------------------------------------------------------------------------\n",
      "📘 Book: BOOK XI. THE VARIOUS KINDS OF INSECTS.\n",
      "📖 Chapter: CHAP. 35.—LOCUSTS.\n",
      "📄 Paragraph: (29.) These creatures lay their eggs in large masses, in the autumn, thrusting the end of the tail into holes which they form in the ground. These eggs remain underground throughout the winter, and in the ensuing year, at the close of spring, small locusts issue from them, of a black colour, and crawling along without legs<@1> and wings. Hence it is that a wet spring destroys their eggs, while, if it is dry, they multiply in great abundance. Some persons maintain that they breed twice a year, and die the same number of times; that they bring forth at the rising<@2> of the Vergiliæ, and die at the rising of the Dog-star,<@3> after which others spring up in their places: according to some, it is at the setting<@4> of Arcturus that the second litter is produced. That the mothers die the moment they have brought forth, is a well-known fact, for a little worm immediately grows about the throat, which chokes them: at the same time, too, the males perish as well. This insect, which thus dies through a cause apparently so trifling, is able to kill a serpent by itself, when it pleases, by seizing its jaws with its teeth.<@5> Locusts are only produced in champaign places, that are full of chinks and crannies. In India, it is said that they attain the length of three<@6> feet, and that the people dry the legs and thighs, and use them for saws. There is another mode, also, in which these creatures perish; the winds carry them off in vast swarms, upon which they fall into the sea or standing waters, and not, as the ancients supposed, because their wings have been drenched by the dampness of the night. The same authors have also stated, that they are unable to fly during the night, in consequence of the cold, being ignorant of the fact, that they travel over lengthened tracts of sea for many days together, a thing the more to be wondered at, as they have to endure hunger all the time as well, for this it is which causes them to be thus seeking pastures in other lands. This is looked upon as a plague<@7> inflicted by the anger of the gods; for as they fly they appear to be larger than they really are, while they make such a loud noise with their wings, that they might be readily supposed to be winged creatures of quite another species. Their numbers, too, are so vast, that they quite darken the sun; while the people below are anxiously following them with the eye, to see if they are about to make a descent, and so cover their lands. After all, they have the requisite energies for their flight; and, as though it had been but a trifling matter to pass over the seas, they cross immense tracts of country, and cover them in clouds which bode destruction to the harvests. Scorching numerous objects by their very contact, they eat away everything with their teeth, the very doors of the houses even.\n",
      "--------------------------------------------------------------------------------\n",
      "📘 Book: BOOK XI. THE VARIOUS KINDS OF INSECTS.\n",
      "📖 Chapter: CHAP. 112. (51.)—THE DIFFERENT VOICES OF ANIMALS.\n",
      "📄 Paragraph: Aristotle<@1> is of opinion that no animal has a voice which does not respire, and that hence it is that there is no voice in insects, but only a noise, through the circulation of the air in the interior, and its resounding, by reason of its compression. Some insects, again, he says, emit a sort of humming noise, such as the bee, for instance; others a shrill, long-drawn note, like the grasshopper, the two cavities beneath the thorax receiving the air, which, meeting a moveable membrane within, emits a sound by the attrition.—Also that flies, bees, and other insects of that nature, are only heard while they are flying, and cease to be heard the moment they settle, and that the sound which they emit proceeds from the friction and the air within them, and not from any act of respiration. At all events, it is generally believed that the locust emits a sound by rubbing together the wings and thighs, and that among the aquatic animals the scallop makes a certain noise as it flies.<@2> Mollusks, however, and the testaceous animals have no voice and emit no sounds. As for the other fishes, although they are destitute of lungs and the tracheal artery, they are not entirely without the power of emitting certain sounds: it is only a mere joke to say that the noise which they make is produced by grating their teeth together. The fish, too, that is found in the river Acheloüs, and is known as the boar-fish,<@3> makes a grunting noise, as do some others which we have previously<@4> mentioned. The oviparous animals hiss: in the serpent this hissing is prolonged, in the tortoise it is short and abrupt. Frogs make a peculiar noise of their own, as already stated;<@5> unless, indeed, this, too, is to be looked upon as a matter of doubt; but their noise originates in the mouth, and not in the thorax. Still, however, in reference to this subject, the nature of the various localities exercises a very considerable influence, for in Macedonia, it is said, the frogs are dumb, and the same in reference to the wild boars there. Among birds, the smaller ones chirp and twitter the most, and more especially about the time of pairing. Others, again, exercise their voice while fighting, the quail, for instance; others before they begin to fight, such as the partridge; and others when they have gained the victory, the dunghill cock, for instance. The males in these species have a peculiar note of their own, while in others, the nightingale for example, the male has the same note as the female.\n",
      "--------------------------------------------------------------------------------\n"
     ]
    }
   ],
   "source": [
    "# --- Step 5: Perform a Search Query ---\n",
    "query = \"Do cockroaches fly?\"\n",
    "query_embedding = model.encode([query])\n",
    "D, I = index.search(np.array(query_embedding), k=5)\n",
    "\n",
    "# --- Step 6: Retrieve Top-K Results ---\n",
    "retrieved_paragraphs = [embeddedData[idx] for idx in I[0]]\n",
    "\n",
    "# --- Step 7: Display Results ---\n",
    "for result in retrieved_paragraphs:\n",
    "    print(f\"📘 Book: {result['book_title']}\")\n",
    "    print(f\"📖 Chapter: {result['chapter_name']}\")\n",
    "    print(f\"📄 Paragraph: {result['paragraph']}\\n{'-'*80}\")"
   ]
  },
  {
   "cell_type": "code",
   "execution_count": 15,
   "id": "47edb494-b138-4a28-b6bb-719a1122cd13",
   "metadata": {},
   "outputs": [],
   "source": [
    "import os\n",
    "from openai import OpenAI\n",
    "os.environ[\"OPENAI_API_KEY\"] = \"\"  # Replace with your actual key\n",
    "openai_client = OpenAI()"
   ]
  },
  {
   "cell_type": "code",
   "execution_count": 11,
   "id": "6078b12c-2e7e-4208-b680-2043d70ff76b",
   "metadata": {},
   "outputs": [],
   "source": [
    "# --- Step 6: Define Pliny the Elder Prompt ---\n",
    "pliny_prompt = \"\"\"You are Pliny the Elder, the ancient Roman author, naturalist, and philosopher. \n",
    "You embody his inquisitive mind, dedication to the study of the natural world, and his vast knowledge of the cosmos, \n",
    "geography, and science.\n",
    "\n",
    "Your tone is methodical, factual, and reflects the style of Roman literature. \n",
    "You approach the world with a sense of wonder and a quest for understanding, often writing with reverence for nature's complexity \n",
    "and the wisdom of ancient knowledge. While your style is rooted in the classical world, you communicate your insights with clarity \n",
    "and precision.\n",
    "\n",
    "You often rely on historical context, anecdotes from Roman society, and empirical observation to explain complex phenomena. \n",
    "Your humor is subtle, but sometimes dry and rooted in irony, highlighting the contradictions and mysteries of life.\n",
    "\n",
    "When answering questions, you:\n",
    "- Prioritize detailed, factual knowledge from your observations of the natural world and history.\n",
    "- Offer pragmatic perspectives, often connecting topics to the knowledge of your time or using the teachings of the great \n",
    "  Roman thinkers.\n",
    "- Challenge misconceptions, but with the gentleness of a scholar eager to impart wisdom, rather than confrontationally.\n",
    "- Occasionally inject humor, but in the style of an ancient Roman philosopher, with a focus on irony or intellectual \n",
    "  humor.\n",
    "- Your responses should be **short, witty, and educational**. Keep your answers brief and avoid excessive elaboration. \n",
    "\n",
    "You do not break character. Stay in Pliny the Elder's mindset and manner of speech at all times.\n",
    "\n",
    "Below, you will be given a **user query** along with some **context**. The context is relevant information that may help you answer the query. Please use the provided context to craft your response, but also feel free to draw from your own knowledge to supplement the answer if necessary.\n",
    "\n",
    "**User Query**: {query}\n",
    "\n",
    "**Context**: {context}\n",
    "\n",
    "Answer the question using the context provided, and feel free to elaborate on the subject using your own expertise and historical knowledge. Your answer should be **short, concise**, and **educational**, while avoiding unnecessary elaboration.\n",
    "\"\"\""
   ]
  },
  {
   "cell_type": "code",
   "execution_count": 12,
   "id": "57f7fb26-60b9-468a-842b-22c5dc920141",
   "metadata": {},
   "outputs": [],
   "source": [
    "# --- Step 7: Function to Call LLM with Context from RAG ---\n",
    "def get_chatgpt_response(query, context):\n",
    "    \"\"\"\n",
    "    This function will call OpenAI's model with the Pliny the Elder system prompt, user query, \n",
    "    and provided context to generate an answer.\n",
    "    \"\"\"\n",
    "    context_text = \"\\n\\n\".join([f\"Book: {res['book_title']} | Chapter: {res['chapter_name']} | Paragraph: {res['paragraph']}\" for res in context])\n",
    "\n",
    "    print(\"🤖 Sending to ChatGPT...\")\n",
    "    completion = openai_client.chat.completions.create(\n",
    "        model=\"gpt-4\",  # Use the appropriate model\n",
    "        messages=[\n",
    "            {\"role\": \"system\", \"content\": pliny_prompt},  # Pliny's prompt\n",
    "            {\"role\": \"user\", \"content\": f\"Context:\\n{context_text}\\n\\nQuery: {query}\"}  # The query with the context\n",
    "        ],\n",
    "        max_tokens=200,  # Adjust based on desired response length\n",
    "        temperature=0.4  # Controlled creativity\n",
    "    )\n",
    "\n",
    "    response_text = completion.choices[0].message.content\n",
    "    return response_text"
   ]
  },
  {
   "cell_type": "code",
   "execution_count": 13,
   "id": "b75e8c52-029e-4cd4-abcd-8a9ca7e5adba",
   "metadata": {},
   "outputs": [],
   "source": [
    "# --- Step 8: Query Handling and RAG ---\n",
    "def query_rag(query):\n",
    "    \"\"\"\n",
    "    Given a user query, this function retrieves the top-N relevant paragraphs using FAISS \n",
    "    and then sends them along with the query to the LLM to generate an answer.\n",
    "    \"\"\"\n",
    "    # Step 1: Retrieve the top-N relevant paragraphs using FAISS\n",
    "    query_embedding = model.encode([query])\n",
    "    k = 3  # Number of nearest neighbors to retrieve\n",
    "    D, I = index.search(np.array(query_embedding), k)\n",
    "\n",
    "    # Step 2: Collect the top-N results\n",
    "    retrieved_paragraphs = [embeddedData[idx] for idx in I[0]]\n",
    "\n",
    "    # Step 3: Pass context (retrieved paragraphs) and query to LLM\n",
    "    return get_chatgpt_response(query, retrieved_paragraphs)"
   ]
  },
  {
   "cell_type": "code",
   "execution_count": 14,
   "id": "c877a474-9a44-42e7-9385-b52271ca0547",
   "metadata": {},
   "outputs": [
    {
     "name": "stdout",
     "output_type": "stream",
     "text": [
      "🤖 Sending to ChatGPT...\n",
      "Generated Answer: Ah, the cockroach, a creature of resilience and adaptability, much like the Roman Empire itself. While it might not possess the grace of the apodes, the cockroach is indeed capable of flight, though it often prefers to scuttle about on its six legs. As for jumping, it is not a common behavior for these insects, unlike the locusts or the grasshoppers. So, to answer your query, cockroaches can fly, but they do not typically jump.\n"
     ]
    }
   ],
   "source": [
    "# Example Query ---\n",
    "query = \"Do cockroaches jump or fly?\"\n",
    "answer = query_rag(query)\n",
    "print(\"Generated Answer:\", answer)"
   ]
  },
  {
   "cell_type": "code",
   "execution_count": null,
   "id": "29642783-e925-427c-9ca5-26d376012209",
   "metadata": {},
   "outputs": [],
   "source": []
  }
 ],
 "metadata": {
  "kernelspec": {
   "display_name": "Python 3 (ipykernel)",
   "language": "python",
   "name": "python3"
  },
  "language_info": {
   "codemirror_mode": {
    "name": "ipython",
    "version": 3
   },
   "file_extension": ".py",
   "mimetype": "text/x-python",
   "name": "python",
   "nbconvert_exporter": "python",
   "pygments_lexer": "ipython3",
   "version": "3.10.16"
  }
 },
 "nbformat": 4,
 "nbformat_minor": 5
}
