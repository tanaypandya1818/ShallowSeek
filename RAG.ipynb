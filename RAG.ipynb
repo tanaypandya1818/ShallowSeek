{
 "cells": [
  {
   "cell_type": "code",
   "execution_count": null,
   "id": "81e2b25c",
   "metadata": {},
   "outputs": [],
   "source": [
    "\n",
    "%pip install numpy==1.24.2\n",
    "%pip install spacy\n",
    "%pip install faiss-cpu\n",
    "%pip install -U sentence-transformers\n",
    "\n",
    "!python -m spacy download en_core_web_sm"
   ]
  },
  {
   "cell_type": "code",
   "execution_count": null,
   "id": "e339ebef",
   "metadata": {},
   "outputs": [],
   "source": [
    "import json\n",
    "import spacy\n",
    "from sentence_transformers import SentenceTransformer\n",
    "import numpy as np\n",
    "import faiss\n",
    "from tqdm import tqdm"
   ]
  },
  {
   "cell_type": "code",
   "execution_count": null,
   "id": "015bbca6",
   "metadata": {},
   "outputs": [],
   "source": [
    "\n",
    "!python -m spacy download en_core_web_sm"
   ]
  },
  {
   "cell_type": "code",
   "execution_count": null,
   "id": "6c9368cf",
   "metadata": {},
   "outputs": [],
   "source": [
    "# Load Data\n",
    "with open('./data-collection/data/chapter-data.json', 'r', encoding='utf-8') as f:\n",
    "    data = json.load(f)\n",
    "\n",
    "nlp = spacy.load('en_core_web_sm')\n",
    "model = SentenceTransformer('all-MiniLM-L6-v2')\n",
    "\n",
    "print(data)"
   ]
  },
  {
   "cell_type": "code",
   "execution_count": null,
   "id": "85368585",
   "metadata": {},
   "outputs": [],
   "source": [
    "embeddedData = []\n",
    "\n",
    "for entry in tqdm(data):\n",
    "    book_title = entry.get(\"book_title\", \"\")\n",
    "    chapter_name = entry.get(\"chapter_name\", \"\")\n",
    "    paragraphs = entry.get(\"paragraphs\", [])\n",
    "\n",
    "    for i, paragraph in enumerate(paragraphs):\n",
    "        doc = nlp(paragraph)\n",
    "        sentences = [sent.text for sent in doc.sents]\n",
    "        paragraphEmbed = model.encode(sentences)\n",
    "        paragraphEmbed = np.mean(paragraphEmbed, axis=0)\n",
    "\n",
    "        embeddedData.append({\n",
    "                \"book_title\": book_title,\n",
    "                \"chapter_name\": chapter_name,\n",
    "                \"paragraph\": paragraph,\n",
    "                \"embeddedParagraph\": paragraphEmbed\n",
    "            })\n",
    "        \n",
    "    break\n",
    "\n",
    "embeddings = np.array([info['embeddedParagraph'] for info in embeddedData])\n",
    "index = faiss.IndexFlatL2(embeddings.shape[1])\n",
    "index.add(embeddings)"
   ]
  },
  {
   "cell_type": "code",
   "execution_count": null,
   "id": "6a75933e",
   "metadata": {},
   "outputs": [],
   "source": [
    "query = \"What is commosis?\"\n",
    "query_embedding = model.encode([query])\n",
    "\n",
    "k = 5  # Number of nearest neighbors to retrieve\n",
    "D, I = index.search(np.array(query_embedding), k)\n",
    "\n",
    "# Step 8: Get the metadata of the top-N retrieved results\n",
    "retrieved_paragraphs = [embeddedData[idx] for idx in I[0]]\n",
    "\n",
    "# Display retrieved paragraphs and their metadata\n",
    "for result in retrieved_paragraphs:\n",
    "    print(f\"Book: {result['book_title']}\")\n",
    "    print(f\"Chapter: {result['chapter_name']}\")\n",
    "    print(f\"Paragraph: {result['paragraph']}\")\n",
    "    print(\"\\n\")"
   ]
  },
  {
   "cell_type": "code",
   "execution_count": null,
   "id": "2ffd2912",
   "metadata": {},
   "outputs": [],
   "source": []
  }
 ],
 "metadata": {
  "kernelspec": {
   "display_name": "base",
   "language": "python",
   "name": "python3"
  },
  "language_info": {
   "codemirror_mode": {
    "name": "ipython",
    "version": 3
   },
   "file_extension": ".py",
   "mimetype": "text/x-python",
   "name": "python",
   "nbconvert_exporter": "python",
   "pygments_lexer": "ipython3",
   "version": "3.11.5"
  }
 },
 "nbformat": 4,
 "nbformat_minor": 5
}
