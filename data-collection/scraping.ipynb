{
 "cells": [
  {
   "cell_type": "code",
   "execution_count": 54,
   "metadata": {},
   "outputs": [],
   "source": [
    "from bs4 import BeautifulSoup\n",
    "import bs4\n",
    "import requests as req\n",
    "import json, re"
   ]
  },
  {
   "cell_type": "code",
   "execution_count": null,
   "metadata": {},
   "outputs": [
    {
     "data": {
      "text/plain": [
       "38"
      ]
     },
     "execution_count": 6,
     "metadata": {},
     "output_type": "execute_result"
    }
   ],
   "source": [
    "### Get the links to every chapter of every book\n",
    "\n",
    "# First, get a single page's content and scan through the table of contents for all book elements\n",
    "r = req.get('http://www.perseus.tufts.edu/hopper/text?doc=Perseus%3Atext%3A1999.02.0137%3Abook%3D1%3Achapter%3Ddedication')\n",
    "soup = BeautifulSoup(r.text)\n",
    "table_of_contents = soup.find(id='side_toc')\n",
    "\n",
    "table_of_contents_children = table_of_contents.contents\n",
    "\n",
    "len(table_of_contents_children)"
   ]
  },
  {
   "cell_type": "code",
   "execution_count": 21,
   "metadata": {},
   "outputs": [],
   "source": [
    "BASE_URL = 'http://www.perseus.tufts.edu/hopper/text'"
   ]
  },
  {
   "cell_type": "code",
   "execution_count": null,
   "metadata": {},
   "outputs": [],
   "source": [
    "# Gets the links for every chapter within a given book\n",
    "def parse_chapter_links(chapter: bs4.element.Tag):\n",
    "    whitespace_regex = r'\\s*\\n\\s*'\n",
    "    book_title = re.sub(whitespace_regex, ' ', chapter.find_all(name='a')[1].span.text.strip())\n",
    "    chapter_links = chapter.div.find_all(name='a')\n",
    "    \n",
    "    parsed_chapter_links = []\n",
    "    \n",
    "    for link in chapter_links:\n",
    "        link_data = {'book_title': book_title}\n",
    "        link_data['url'] = BASE_URL + link.attrs['href']\n",
    "        link_data['chapter_name'] = re.sub(whitespace_regex, ' ', link.span.text.strip())\n",
    "    \n",
    "        parsed_chapter_links.append(link_data)\n",
    "        \n",
    "    return parsed_chapter_links"
   ]
  },
  {
   "cell_type": "code",
   "execution_count": null,
   "metadata": {},
   "outputs": [],
   "source": [
    "# Get all the links from all the books\n",
    "all_chapters = []\n",
    "for child in table_of_contents_children[:-1]:\n",
    "    all_chapters.extend(parse_chapter_links(child))\n",
    "    \n",
    "# ...and write out to a JSON for future reference\n",
    "with open('out.json', 'w') as f:\n",
    "    json.dump(all_chapters, f, indent=2, ensure_ascii=False)"
   ]
  },
  {
   "cell_type": "code",
   "execution_count": null,
   "metadata": {},
   "outputs": [],
   "source": [
    "# TODO: parse throuh the text of each chapter and collect text, footnotes, and separate into paragraphs for RAG/fine-tuning"
   ]
  }
 ],
 "metadata": {
  "kernelspec": {
   "display_name": "3.13.1",
   "language": "python",
   "name": "python3"
  },
  "language_info": {
   "codemirror_mode": {
    "name": "ipython",
    "version": 3
   },
   "file_extension": ".py",
   "mimetype": "text/x-python",
   "name": "python",
   "nbconvert_exporter": "python",
   "pygments_lexer": "ipython3",
   "version": "3.13.1"
  }
 },
 "nbformat": 4,
 "nbformat_minor": 2
}
