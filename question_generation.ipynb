{
 "cells": [
  {
   "cell_type": "code",
   "execution_count": 46,
   "id": "e5fa2f8e",
   "metadata": {},
   "outputs": [],
   "source": [
    "import os, json, re, random, time\n",
    "from dotenv import load_dotenv\n",
    "from google import genai\n",
    "from google.genai import types\n",
    "\n",
    "load_dotenv()\n",
    "\n",
    "gemini_client = genai.Client(api_key=os.environ.get(\"GEMINI_API_KEY\"))"
   ]
  },
  {
   "cell_type": "code",
   "execution_count": 2,
   "id": "3e6c2913",
   "metadata": {},
   "outputs": [],
   "source": [
    "# Prompt for generating out-of-scope questions (sent to gemini-2.5-pro-preview-03-25):\n",
    "# \"Give me 100 questions about events after the fall of the roman empire in a random, non-chronological order.\"\n",
    "\n",
    "with open('questions/out-of-scope.json', 'r') as f:\n",
    "    out_of_scope_qs = json.load(f)"
   ]
  },
  {
   "cell_type": "code",
   "execution_count": 43,
   "id": "7aea2c71",
   "metadata": {},
   "outputs": [],
   "source": [
    "question_gen_system_prompt = \"\"\"\n",
    "You will be given a chapter from the *Naturalis Historia*, a Roman encyclopedia containing a wealth of information known to them at the time.\n",
    "From the given chapter, please give two questions that could be asked about the information given in the chapter.\n",
    "Do not mention the author.\n",
    "The chapter information will be given in the following format:\n",
    "\n",
    "**Title**: {title}\n",
    "**Chapter**: {chapter}\n",
    "\n",
    "Give your questions as plain text, separated by new lines.\n",
    "\"\"\""
   ]
  },
  {
   "cell_type": "code",
   "execution_count": 37,
   "id": "04f50ef0",
   "metadata": {},
   "outputs": [],
   "source": [
    "footnote_code_re = r'<@[0-9]+>'\n",
    "\n",
    "def convert_chapter_to_questions(chapter_data):\n",
    "    cleaned_paragraphs = [re.sub(footnote_code_re, '', p) for p in chapter_data['paragraphs']]\n",
    "    completion = gemini_client.models.generate_content(\n",
    "        model=\"gemini-2.0-flash\",\n",
    "        contents=[\n",
    "            f\"Title:\\n{chapter_data['chapter_name']}\\Chapter:{' '.join(cleaned_paragraphs)}\"\n",
    "        ],\n",
    "        config=types.GenerateContentConfig(\n",
    "            system_instruction=question_gen_system_prompt, # Pliny's prompt\n",
    "            max_output_tokens=200,\n",
    "            temperature=0\n",
    "        ),\n",
    "    )\n",
    "    \n",
    "    return completion.text.strip().split('\\n')"
   ]
  },
  {
   "cell_type": "code",
   "execution_count": null,
   "id": "b4ec4f74",
   "metadata": {},
   "outputs": [],
   "source": [
    "# Load in chapters, then prompt Gemini to generate a question from a chapter's contents\n",
    "with open('data-collection/data/chapter-data.json', 'r', encoding='utf-8') as f:\n",
    "    all_chapters = json.load(f)"
   ]
  },
  {
   "cell_type": "code",
   "execution_count": null,
   "id": "650d2400",
   "metadata": {},
   "outputs": [],
   "source": [
    "n_chapters = 100\n",
    "sampled_chapters = random.sample(all_chapters, n_chapters)\n",
    "\n",
    "all_questions = []\n",
    "for i, chapter in enumerate(sampled_chapters):\n",
    "    print(f'Generating questions for chapter {i+1}/{n_chapters}...', end='\\r')\n",
    "    chapter_questions = convert_chapter_to_questions(chapter)\n",
    "    chapter_questions = [{ 'question': q, 'chapter': chapter['chapter_name'] } for q in chapter_questions]\n",
    "    all_questions.extend(chapter_questions)\n",
    "    \n",
    "    time.sleep(4) # one request every 4 seconds to avoid rate limit of 15/minute\n",
    "\n",
    "all_questions"
   ]
  },
  {
   "cell_type": "code",
   "execution_count": 50,
   "id": "a1f46bb9",
   "metadata": {},
   "outputs": [],
   "source": [
    "with open('questions/chapter-questions.json', 'w', encoding='utf-8') as f:\n",
    "    json.dump(all_questions, f, indent=2, ensure_ascii=False)"
   ]
  }
 ],
 "metadata": {
  "kernelspec": {
   "display_name": "3.10.11",
   "language": "python",
   "name": "python3"
  },
  "language_info": {
   "codemirror_mode": {
    "name": "ipython",
    "version": 3
   },
   "file_extension": ".py",
   "mimetype": "text/x-python",
   "name": "python",
   "nbconvert_exporter": "python",
   "pygments_lexer": "ipython3",
   "version": "3.10.11"
  }
 },
 "nbformat": 4,
 "nbformat_minor": 5
}
