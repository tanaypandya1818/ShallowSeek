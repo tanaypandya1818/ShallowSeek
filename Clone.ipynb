{
 "cells": [
  {
   "cell_type": "code",
   "execution_count": null,
   "metadata": {},
   "outputs": [],
   "source": [
    "import json\n",
    "from tqdm import tqdm\n",
    "import requests"
   ]
  },
  {
   "cell_type": "code",
   "execution_count": null,
   "metadata": {},
   "outputs": [],
   "source": [
    "# Load Data\n",
    "with open('data-collection\\data\\chapter-data.json', 'r') as f:\n",
    "    data = json.load(f)"
   ]
  },
  {
   "cell_type": "code",
   "execution_count": null,
   "metadata": {},
   "outputs": [],
   "source": [
    "url = \"https://api-inference.huggingface.co/models/meta-llama/Llama-3.2-3B-Instruct\"\n",
    "token = \"\"  # Replace with your Hugging Face token\n",
    "\n",
    "def model(prompt):\n",
    "    headers = {\n",
    "      'Authorization': f'Bearer {token}'\n",
    "    }\n",
    "\n",
    "    parameters = {\n",
    "      \"max_new_tokens\": 100,\n",
    "      \"temperature\": 0.01,\n",
    "      \"top_k\": 50,\n",
    "      \"top_p\": 0.95,\n",
    "      \"return_full_text\": False\n",
    "    }\n",
    "\n",
    "    payload = {\"inputs\": prompt, \"parameters\": parameters}\n",
    "\n",
    "    response = requests.post(url, headers=headers, json=payload)\n",
    "    \n",
    "    if response.status_code == 200:\n",
    "        print(\"?\", response.json())\n",
    "        return response.json()[0]['generated_text']\n",
    "    else:\n",
    "        print(f'Error: {response.status_code}')\n",
    "        print(response.json())\n",
    "        return None"
   ]
  },
  {
   "cell_type": "code",
   "execution_count": null,
   "metadata": {},
   "outputs": [],
   "source": [
    "dataset = []\n",
    "\n",
    "# Loop through each excerpt\n",
    "for entry in tqdm(data):\n",
    "    book_title = entry.get(\"book_title\", \"\")\n",
    "    chapter_name = entry.get(\"chapter_name\", \"\")\n",
    "    paragraphs = entry.get(\"paragraphs\", [])\n",
    "\n",
    "    for paragraph in paragraphs:\n",
    "        if len(paragraph) < 100:\n",
    "            continue\n",
    "\n",
    "        input_data = f\"Book Title: {book_title}\\nChapter Name: {chapter_name}\\n\\n{paragraph}\"\n",
    "\n",
    "        # Generate question \n",
    "        question_prompt = f\"Generate one reflective or thoughtful question based on the following passage:\\n\\n{paragraph}\"\n",
    "\n",
    "        response_question = model(question_prompt)\n",
    "\n",
    "        question = response_question.choices[0].message.content.strip()\n",
    "\n",
    "\n",
    "        # Generate answer from question\n",
    "        answer_prompt = (\n",
    "            f\"Answer the following question in the style of the historical figure who wrote the text below:\\n\\n\"\n",
    "            f\"Text: {paragraph}\\n\\nQuestion: {question}\\n\\nAnswer:\"\n",
    "        )\n",
    "\n",
    "        response_answer = model(answer_prompt)\n",
    "        print(response_answer)\n",
    "\n",
    "        answer = response_answer.choices[0].message.content.strip()\n",
    "\n",
    "\n",
    "        dataset.append({\n",
    "            \"question\": question,\n",
    "            \"input\": input_data,\n",
    "            \"answer\": answer\n",
    "        })\n",
    "\n",
    "    if len(dataset) >= 10:\n",
    "        break\n",
    "\n"
   ]
  },
  {
   "cell_type": "code",
   "execution_count": null,
   "metadata": {},
   "outputs": [],
   "source": [
    "\n",
    "# Save the formatted instruction-tuning data\n",
    "with open('instruction_tuning_dataset.jsonl', 'w') as f:\n",
    "    for item in instruction_dataset:\n",
    "        f.write(json.dumps(item) + \"\\n\")"
   ]
  }
 ],
 "metadata": {
  "kernelspec": {
   "display_name": "base",
   "language": "python",
   "name": "python3"
  },
  "language_info": {
   "codemirror_mode": {
    "name": "ipython",
    "version": 3
   },
   "file_extension": ".py",
   "mimetype": "text/x-python",
   "name": "python",
   "nbconvert_exporter": "python",
   "pygments_lexer": "ipython3",
   "version": "3.11.5"
  }
 },
 "nbformat": 4,
 "nbformat_minor": 2
}
